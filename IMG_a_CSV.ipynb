{
  "nbformat": 4,
  "nbformat_minor": 0,
  "metadata": {
    "colab": {
      "provenance": []
    },
    "kernelspec": {
      "name": "python3",
      "display_name": "Python 3"
    },
    "language_info": {
      "name": "python"
    }
  },
  "cells": [
    {
      "cell_type": "code",
      "source": [
        "!pip install pillow pytesseract\n"
      ],
      "metadata": {
        "colab": {
          "base_uri": "https://localhost:8080/"
        },
        "id": "Hr2D-F5X18iK",
        "outputId": "2baa5635-2d75-4237-dd43-e40556b4cf43"
      },
      "execution_count": null,
      "outputs": [
        {
          "output_type": "stream",
          "name": "stdout",
          "text": [
            "Requirement already satisfied: pillow in /usr/local/lib/python3.11/dist-packages (11.2.1)\n",
            "Collecting pytesseract\n",
            "  Downloading pytesseract-0.3.13-py3-none-any.whl.metadata (11 kB)\n",
            "Requirement already satisfied: packaging>=21.3 in /usr/local/lib/python3.11/dist-packages (from pytesseract) (24.2)\n",
            "Downloading pytesseract-0.3.13-py3-none-any.whl (14 kB)\n",
            "Installing collected packages: pytesseract\n",
            "Successfully installed pytesseract-0.3.13\n"
          ]
        }
      ]
    },
    {
      "cell_type": "markdown",
      "source": [
        "### 🖼️ 1. Procesamiento automático de horarios desde imágenes con OCR\n",
        "\n",
        "La función `procesar_horario(...)` permite extraer la información estructurada de un horario escolar a partir de una imagen utilizando OCR (Reconocimiento Óptico de Caracteres) con la biblioteca `pytesseract`.\n",
        "\n",
        "#### 🧾 Parámetros:\n",
        "- `imagen_path`: ruta de la imagen del horario.\n",
        "- `nivel`: grado o nivel académico (por ejemplo, `\"7EGB\"`).\n",
        "- `aula`: nombre del paralelo o curso (por ejemplo, `\"Reflexivos\"`).\n",
        "- `output_txt`: nombre del archivo `.txt` donde se exportará el resultado.\n",
        "\n",
        "#### 🔄 Flujo de procesamiento:\n",
        "1. **OCR:** Se lee el contenido textual de la imagen.\n",
        "2. **Limpieza:** Se normalizan líneas, se eliminan caracteres no útiles y se convierten a mayúsculas.\n",
        "3. **Filtrado:** Se excluyen palabras clave asociadas a bloques no académicos (`TUTORIA`, `CLUB`, `RECESO`, etc.).\n",
        "4. **Correcciones:** Se aplican diccionarios de reemplazo para transformar palabras incompletas o errores de OCR en códigos válidos de materias.\n",
        "5. **Asignación temporal:** Se asigna cada materia a un día y una franja horaria.\n",
        "6. **Exportación:** Se guarda un archivo `.txt` con líneas tipo:\n"
      ],
      "metadata": {
        "id": "UY5SoQPNGDsf"
      }
    },
    {
      "cell_type": "code",
      "execution_count": null,
      "metadata": {
        "id": "h1l-Oe5c1T7J"
      },
      "outputs": [],
      "source": [
        "from PIL import Image\n",
        "import pytesseract\n",
        "\n",
        "# Si estás en Windows y Tesseract no está en el PATH:\n",
        "# pytesseract.pytesseract.tesseract_cmd = r'C:\\Program Files\\Tesseract-OCR\\tesseract.exe'\n",
        "\n",
        "def procesar_horario(imagen_path, nivel, aula, output_txt):\n",
        "    \"\"\"\n",
        "    Procesa una imagen de horario y genera un archivo .txt con el formato estandarizado.\n",
        "\n",
        "    Args:\n",
        "        imagen_path (str): ruta de la imagen del horario\n",
        "        nivel (str): grado o nivel académico (ej. '7EGB')\n",
        "        aula (str): nombre del paralelo o curso (ej. 'Reflexivos')\n",
        "        output_txt (str): nombre del archivo .txt de salida\n",
        "    \"\"\"\n",
        "\n",
        "    # === Cargar imagen y extraer texto ===\n",
        "    imagen = Image.open(imagen_path)\n",
        "    ocr_texto = pytesseract.image_to_string(imagen)\n",
        "\n",
        "    # === Limpiar líneas ===\n",
        "    lineas = [\n",
        "        linea.strip().replace(\".\", \"\").replace(\",\", \"\").upper()\n",
        "        for linea in ocr_texto.splitlines()\n",
        "        if linea.strip()\n",
        "    ]\n",
        "\n",
        "    # === Filtrar solo bloques de fondo blanco ===\n",
        "    exclusiones = {\"TUTORIA\", \"REC\", \"ALMUERZO\", \"CLUBES\", \"CLUB\", \"EVA\", \"EVA-LEV\"}\n",
        "    contenido_util = [linea for linea in lineas if all(ex not in linea for ex in exclusiones)]\n",
        "    contenido_util = contenido_util[:80]\n",
        "\n",
        "    # === Diccionarios de reemplazo ===\n",
        "    reemplazos = {\n",
        "        \"PLAS\": \"PLA\", \"LEC\": \"LEC\", \"SOC\": \"SOC\", \"PRO\": \"PRO\", \"EDU\": \"EDU\", \"ING\": \"ING\", \"LEN\": \"LEN\",\n",
        "        \"NAT\": \"NAT\", \"MAT\": \"MAT\", \"PEN\": \"PEN\", \"EXP\": \"EXP\", \"CAL\": \"CAL\", \"RAZ\": \"RAZ\", \"SPE\": \"SPE\",\n",
        "        \"SALUD\": \"SAL\", \"ECO\": \"ECO\", \"DER\": \"DER\", \"COM\": \"COM\", \"INV\": \"INV\", \"DES\": \"DES\", \"DAN\": \"DAN\",\n",
        "        \"MUS\": \"MUS\", \"ROB\": \"ROB\", \"GEO\": \"GEO\", \"QUI\": \"QUI\", \"EMP\": \"EMP\", \"EST\": \"EST\"\n",
        "    }\n",
        "\n",
        "    reemplazos_frase = {\n",
        "        \"FIS 1 JOSE L\": \"EXP\", \"MAT 10 JAIR\": \"RAZ\", \"ING 7 CRIS\": \"SPE\",\n",
        "        \"PRO TLUD\": \"PRO\", \"PRO 1 LUD\": \"PRO\",\n",
        "        \"LEC TANT\": \"LEC\", \"LEC T AN\": \"LEC\", \"LEC TAN\": \"LEC\"\n",
        "    }\n",
        "\n",
        "    # === Generar filas ===\n",
        "    dias = [\"Lunes\", \"Martes\", \"Miércoles\", \"Jueves\", \"Viernes\"]\n",
        "    contador_hora = {dia: 1 for dia in dias}\n",
        "    filas_txt = []\n",
        "\n",
        "    for idx, materia in enumerate(contenido_util):\n",
        "        dia = dias[idx // 16]\n",
        "        hora = contador_hora[dia]\n",
        "        contador_hora[dia] += 1\n",
        "\n",
        "        if materia in reemplazos_frase:\n",
        "            codigo = reemplazos_frase[materia]\n",
        "        else:\n",
        "            sigla = materia.split()[0]\n",
        "            codigo = reemplazos.get(sigla, sigla)\n",
        "\n",
        "        filas_txt.append(f\"('{nivel}', '{aula}', '{dia}', {hora}, '{codigo}_{nivel}')\")\n",
        "\n",
        "    # === Exportar archivo .txt ===\n",
        "    with open(output_txt, \"w\", encoding=\"utf-8\") as f:\n",
        "        f.write(\"\\n\".join(filas_txt))\n",
        "\n",
        "    print(f\"✅ Horario guardado en: {output_txt}\")\n",
        "\n"
      ]
    },
    {
      "cell_type": "markdown",
      "source": [
        "### 🗂️ 2. Procesamiento masivo de horarios desde imágenes\n",
        "\n",
        "En este bloque se aplica la función `procesar_horario(...)` para extraer automáticamente los horarios de múltiples aulas a partir de imágenes `.png`. Cada llamada genera un archivo `.txt` que representa el cromosoma correspondiente a ese curso.\n",
        "\n",
        "#### 📌 Estructura de cada ejecución:\n",
        "```python\n",
        "procesar_horario(\"imagen.png\", \"Nivel\", \"Aula\", \"archivo_salida.txt\")\n"
      ],
      "metadata": {
        "id": "6rkMvFz1GKdV"
      }
    },
    {
      "cell_type": "code",
      "source": [
        "procesar_horario(\"8EGB_Diligentes.png\", \"8EGB\", \"Diligentes\", \"8EGB_Diligentes.txt\")\n",
        "procesar_horario(\"8EGB_Dinámicos.png\", \"8EGB\", \"Dinámicos\", \"8EGB_Dinámicos.txt\")\n",
        "procesar_horario(\"8EGB_Disciplinados.png\", \"8EGB\", \"Disciplinados\", \"8EGB_Disciplinados.txt\")\n",
        "procesar_horario(\"9EGB_Altruistas.png\", \"9EGB\", \"Altruistas\", \"9EGB_Altruistas.txt\")\n",
        "procesar_horario(\"9EGB_Asertivos.png\", \"9EGB\", \"Asertivos\", \"9EGB_Asertivos.txt\")\n",
        "procesar_horario(\"9EGB_Audaces.png\", \"9EGB\", \"Audaces\", \"9EGB_Audaces.txt\")\n",
        "procesar_horario(\"9EGB_Auténticos.png\", \"9EGB\", \"Auténticos\", \"9EGB_Auténticos.txt\")\n",
        "procesar_horario(\"10EGB_Pacifistas.png\", \"10EGB\", \"Pacifistas\", \"10EGB_Pacifistas.txt\")\n",
        "procesar_horario(\"10EGB_Perspicaces.png\", \"10EGB\", \"Perspicaces\", \"10EGB_Perspicaces.txt\")\n",
        "procesar_horario(\"10EGB_Positivos.png\", \"10EGB\", \"Positivos\", \"10EGB_Positivos.txt\")\n",
        "procesar_horario(\"1BGU_Confiables.png\", \"1BGU\", \"Confiables\", \"1BGU_Confiables.txt\")\n",
        "procesar_horario(\"1BGU_Íntegros.png\", \"1BGU\", \"Íntegros\", \"1BGU_Íntegros.txt\")\n",
        "procesar_horario(\"1BGU_Leales.png\", \"1BGU\", \"Leales\", \"1BGU_Leales.txt\")\n",
        "procesar_horario(\"2BGU_Honestos.png\", \"2BGU\", \"Honestos\", \"2BGU_Honestos.txt\")\n",
        "procesar_horario(\"2BGU_Justos.png\", \"2BGU\", \"Justos\", \"2BGU_Justos.txt\")\n",
        "procesar_horario(\"2BGU_Proactivos.png\", \"2BGU\", \"Proactivos\", \"2BGU_Proactivos.txt\")\n",
        "procesar_horario(\"3BGU_Empáticos.png\", \"3BGU\", \"Empáticos\", \"3BGU_Empáticos.txt\")\n",
        "procesar_horario(\"3BGU_Solidarios.png\", \"3BGU\", \"Solidarios\", \"3BGU_Solidarios.txt\")\n",
        "procesar_horario(\"3BGU_Vanguardistas.png\", \"3BGU\", \"Vanguardistas\", \"3BGU_Vanguardistas.txt\")\n",
        "\n"
      ],
      "metadata": {
        "colab": {
          "base_uri": "https://localhost:8080/"
        },
        "id": "n0kJPXmj25MZ",
        "outputId": "58b19a08-3672-4af2-c1f1-3e1aac1b74af"
      },
      "execution_count": null,
      "outputs": [
        {
          "output_type": "stream",
          "name": "stdout",
          "text": [
            "✅ Horario guardado en: 8EGB_Dinámicos.txt\n",
            "✅ Horario guardado en: 8EGB_Disciplinados.txt\n",
            "✅ Horario guardado en: 9EGB_Altruistas.txt\n",
            "✅ Horario guardado en: 9EGB_Asertivos.txt\n",
            "✅ Horario guardado en: 9EGB_Audaces.txt\n",
            "✅ Horario guardado en: 9EGB_Auténticos.txt\n",
            "✅ Horario guardado en: 10EGB_Pacifistas.txt\n",
            "✅ Horario guardado en: 10EGB_Perspicaces.txt\n",
            "✅ Horario guardado en: 10EGB_Positivos.txt\n",
            "✅ Horario guardado en: 1BGU_Confiables.txt\n",
            "✅ Horario guardado en: 1BGU_Íntegros.txt\n",
            "✅ Horario guardado en: 1BGU_Leales.txt\n",
            "✅ Horario guardado en: 2BGU_Honestos.txt\n",
            "✅ Horario guardado en: 2BGU_Justos.txt\n",
            "✅ Horario guardado en: 2BGU_Proactivos.txt\n",
            "✅ Horario guardado en: 3BGU_Empáticos.txt\n",
            "✅ Horario guardado en: 3BGU_Solidarios.txt\n",
            "✅ Horario guardado en: 3BGU_Vanguardistas.txt\n"
          ]
        }
      ]
    }
  ]
}